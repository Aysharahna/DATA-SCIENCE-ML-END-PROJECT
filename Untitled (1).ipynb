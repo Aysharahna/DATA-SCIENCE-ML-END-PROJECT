{
 "cells": [
  {
   "cell_type": "code",
   "execution_count": 1,
   "id": "62c04426-7f84-44e2-b777-6f61559cfd8c",
   "metadata": {},
   "outputs": [],
   "source": [
    "#ssdnm,mm,wmknnkwsmmqmlslsm.sm,m,,\n"
   ]
  },
  {
   "cell_type": "code",
   "execution_count": 3,
   "id": "1fe0cd6a-f472-4a26-afd1-a0592f86365b",
   "metadata": {},
   "outputs": [],
   "source": [
    "import numpy as np\n",
    "import pandas as pd \n",
    "\n",
    "import matplotlib.pyplot as plt"
   ]
  },
  {
   "cell_type": "code",
   "execution_count": null,
   "id": "73c05f17-3d4d-47af-ae1f-4b0b66d44fec",
   "metadata": {},
   "outputs": [],
   "source": []
  }
 ],
 "metadata": {
  "kernelspec": {
   "display_name": "Python 3 (ipykernel)",
   "language": "python",
   "name": "python3"
  },
  "language_info": {
   "codemirror_mode": {
    "name": "ipython",
    "version": 3
   },
   "file_extension": ".py",
   "mimetype": "text/x-python",
   "name": "python",
   "nbconvert_exporter": "python",
   "pygments_lexer": "ipython3",
   "version": "3.10.11"
  }
 },
 "nbformat": 4,
 "nbformat_minor": 5
}
